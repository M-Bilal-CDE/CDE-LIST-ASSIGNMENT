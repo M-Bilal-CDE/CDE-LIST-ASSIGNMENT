{
 "cells": [
  {
   "cell_type": "markdown",
   "id": "df49daef-3a15-49df-996f-67cbe62cf681",
   "metadata": {},
   "source": [
    "# Assignment 04 \n",
    "### List Assignment "
   ]
  },
  {
   "cell_type": "markdown",
   "id": "da61e81f-f20e-4a83-b26c-731754152c4a",
   "metadata": {},
   "source": [
    "#### 1. Write a program that accepts a list from user and print the alternate element of list."
   ]
  },
  {
   "cell_type": "code",
   "execution_count": 9,
   "id": "38a30f09-2916-44b6-a29e-74944b5f1d06",
   "metadata": {},
   "outputs": [
    {
     "name": "stdin",
     "output_type": "stream",
     "text": [
      "Enter a number  2 4 6 8 10\n"
     ]
    },
    {
     "name": "stdout",
     "output_type": "stream",
     "text": [
      "2\n",
      "6\n",
      "10\n"
     ]
    }
   ],
   "source": [
    "num = list(map(int,input(\"Enter a number \").split()))\n",
    "for i in range(0, len(num), 2):\n",
    "    print (num[i])\n",
    "\n",
    "\n"
   ]
  },
  {
   "cell_type": "markdown",
   "id": "9991ee98-c6a8-4c2e-9a06-80fb00d102e2",
   "metadata": {},
   "source": [
    "#### 2. Write a program that accepts a list from user. Your program should reverse the content of list and \n",
    "#### display it. Do not use reverse() method. "
   ]
  },
  {
   "cell_type": "code",
   "execution_count": 13,
   "id": "6e5707d2-0c2b-4ec8-a3fb-406c39ee21ee",
   "metadata": {},
   "outputs": [
    {
     "name": "stdin",
     "output_type": "stream",
     "text": [
      "Enter a Number 2 4 5 8 10\n"
     ]
    },
    {
     "name": "stdout",
     "output_type": "stream",
     "text": [
      "[10]\n",
      "[10, 8]\n",
      "[10, 8, 5]\n",
      "[10, 8, 5, 4]\n",
      "[10, 8, 5, 4, 2]\n"
     ]
    }
   ],
   "source": [
    "num = list (map(int , input(\"Enter a Number\").split()))\n",
    "rev_list = []\n",
    "\n",
    "for i in range (len(num)-1 , -1 ,-1):\n",
    "    rev_list.append(num[i])\n",
    "\n",
    "    print(rev_list)"
   ]
  },
  {
   "cell_type": "markdown",
   "id": "e988822a-7c53-41ae-82b8-397275d99dcd",
   "metadata": {},
   "source": [
    "#### 3. Find and display the largest number of a list without using built-in function max(). Your program \n",
    "#### should ask the user to input values in list from keyboard.  "
   ]
  },
  {
   "cell_type": "code",
   "execution_count": 1,
   "id": "13dcd991-e64a-4400-afff-e98ce10b09fa",
   "metadata": {},
   "outputs": [
    {
     "name": "stdin",
     "output_type": "stream",
     "text": [
      " 1 3 8 10\n"
     ]
    },
    {
     "name": "stdout",
     "output_type": "stream",
     "text": [
      "10\n"
     ]
    }
   ],
   "source": [
    "num = list (map(int , input().split()))\n",
    "largest = num [0]\n",
    "for i in num :\n",
    "    if i > largest :\n",
    "        largest = i\n",
    "\n",
    "print(largest)"
   ]
  },
  {
   "cell_type": "markdown",
   "id": "1386e2e9-c8bd-4c75-b71d-311d9c339370",
   "metadata": {},
   "source": [
    "#### 4. Write a program that rotates the element of a list so that the element at the first index moves to the \n",
    "#### second index, the element in the second index moves to the third index, etc., and the element in the last \n",
    "#### index moves to the first index.   "
   ]
  },
  {
   "cell_type": "code",
   "execution_count": 2,
   "id": "ebd21376-8420-41f0-85ae-63f0784d76b1",
   "metadata": {},
   "outputs": [
    {
     "name": "stdin",
     "output_type": "stream",
     "text": [
      " 2 4 8 \n"
     ]
    },
    {
     "name": "stdout",
     "output_type": "stream",
     "text": [
      "[8, 2, 4]\n"
     ]
    }
   ],
   "source": [
    "numbers = list(map(int, input().split()))\n",
    "last = numbers[-1]\n",
    "rotated = [last] + numbers[:-1]\n",
    "print(rotated)\n"
   ]
  },
  {
   "cell_type": "markdown",
   "id": "652adc5a-3f78-47ea-a950-5b89fa4d432f",
   "metadata": {},
   "source": [
    "#### 5. Write a program that input a string and ask user to delete a given word from a string.  "
   ]
  },
  {
   "cell_type": "code",
   "execution_count": 3,
   "id": "d32f75e0-c998-4bf5-8914-e4df1e9f1be7",
   "metadata": {},
   "outputs": [
    {
     "name": "stdin",
     "output_type": "stream",
     "text": [
      "Enter a sentence:  Iam a software Engnineer Student\n",
      "Enter word to delete:  Student\n"
     ]
    },
    {
     "name": "stdout",
     "output_type": "stream",
     "text": [
      "Iam a software Engnineer \n"
     ]
    }
   ],
   "source": [
    "sentence = input(\"Enter a sentence: \")\n",
    "word = input(\"Enter word to delete: \")\n",
    "new_sentence = sentence.replace(word, \"\")\n",
    "print(new_sentence)\n"
   ]
  },
  {
   "cell_type": "markdown",
   "id": "5de02805-2aad-41dc-a85d-2643f92816ed",
   "metadata": {},
   "source": [
    "#### 6. Write a program that reads a string from the user containing a date in the form mm/dd/yyyy. It should print the date in the form March 12, 2021.  "
   ]
  },
  {
   "cell_type": "code",
   "execution_count": 4,
   "id": "2cf7b165-bbaa-4361-b0c9-8b6e87f80861",
   "metadata": {},
   "outputs": [
    {
     "name": "stdin",
     "output_type": "stream",
     "text": [
      "Enter date (mm/dd/yyyy):  11/23/2005\n"
     ]
    },
    {
     "name": "stdout",
     "output_type": "stream",
     "text": [
      "November 23, 2005\n"
     ]
    }
   ],
   "source": [
    "date = input(\"Enter date (mm/dd/yyyy): \")\n",
    "months = [\"January\",\"February\",\"March\",\"April\",\"May\",\"June\",\n",
    "          \"July\",\"August\",\"September\",\"October\",\"November\",\"December\"]\n",
    "\n",
    "mm, dd, yyyy = date.split(\"/\")\n",
    "month_name = months[int(mm)-1]\n",
    "print(f\"{month_name} {int(dd)}, {yyyy}\")\n"
   ]
  },
  {
   "cell_type": "markdown",
   "id": "db7b2169-6925-4ff5-9866-15dd44dc0dcb",
   "metadata": {},
   "source": [
    "#### 7. Write a program with a function that accepts a string from keyboard and create a new string after \n",
    "#### converting character of each word capitalized. For instance, if the sentence is \"stop and smell the roses.\" \n",
    "#### the output should be \"Stop And Smell The Roses\""
   ]
  },
  {
   "cell_type": "code",
   "execution_count": 5,
   "id": "2336bb8a-ae0c-44e4-bf9d-02090f53030c",
   "metadata": {},
   "outputs": [
    {
     "name": "stdin",
     "output_type": "stream",
     "text": [
      "Enter a sentence:  Iam a software Enginner Student\n"
     ]
    },
    {
     "name": "stdout",
     "output_type": "stream",
     "text": [
      "Iam A Software Enginner Student\n"
     ]
    }
   ],
   "source": [
    "def capitalize_words(sentence):\n",
    "    words = sentence.split()\n",
    "    new_words = []\n",
    "    for word in words:\n",
    "        new_words.append(word.capitalize())\n",
    "    return \" \".join(new_words)\n",
    "\n",
    "sentence = input(\"Enter a sentence: \")\n",
    "print(capitalize_words(sentence))\n"
   ]
  },
  {
   "attachments": {
    "fa4732f1-ff58-471c-a274-b3cd1f86846a.png": {
     "image/png": "[encoded data removed]"
    }
   },
   "cell_type": "markdown",
   "id": "d0fc568d-c0ce-4560-a1eb-9bbc110c7c54",
   "metadata": {},
   "source": [
    "#### 8. Find the sum of each row of matrix of size m x n. For example for the following matrix output will be like this : \n",
    "![image.png](attachment:fa4732f1-ff58-471c-a274-b3cd1f86846a.png)\n",
    "##### Sum of row 1 = 32 \n",
    "##### Sum of row 2 = 31 \n",
    "##### Sum of row 3 = 63 "
   ]
  },
  {
   "cell_type": "code",
   "execution_count": 6,
   "id": "ed0b3733-73b5-4634-9ed9-63f281dbfa70",
   "metadata": {},
   "outputs": [
    {
     "name": "stdout",
     "output_type": "stream",
     "text": [
      "Sum of row 1 = 32\n",
      "Sum of row 2 = 31\n",
      "Sum of row 3 = 63\n"
     ]
    }
   ],
   "source": [
    "# Program to find sum of each row in a matrix\n",
    "\n",
    "matrix = [\n",
    "    [2, 11, 7, 12],\n",
    "    [5, 2, 9, 15],\n",
    "    [8, 3, 10, 42]\n",
    "]\n",
    "\n",
    "for i in range(len(matrix)):\n",
    "    row_sum = sum(matrix[i])\n",
    "    print(f\"Sum of row {i+1} = {row_sum}\")\n"
   ]
  },
  {
   "cell_type": "markdown",
   "id": "9ae98a9c-06c8-42e6-9b47-3f532b058bfc",
   "metadata": {},
   "source": [
    "#### 9. Write a program to add two matrices of size n x m. "
   ]
  },
  {
   "cell_type": "code",
   "execution_count": 7,
   "id": "eadaad0a-7fa8-4a23-a4ce-9f5a03117932",
   "metadata": {},
   "outputs": [
    {
     "name": "stdout",
     "output_type": "stream",
     "text": [
      "Result of Matrix Addition:\n",
      "[8, 10, 12]\n",
      "[14, 16, 18]\n"
     ]
    }
   ],
   "source": [
    "A = [\n",
    "    [1, 2, 3],\n",
    "    [4, 5, 6]\n",
    "]\n",
    "\n",
    "B = [\n",
    "    [7, 8, 9],\n",
    "    [10, 11, 12]\n",
    "]\n",
    "\n",
    "result = [[0 for _ in range(len(A[0]))] for _ in range(len(A))]\n",
    "\n",
    "for i in range(len(A)):        \n",
    "    for j in range(len(A[0])): \n",
    "        result[i][j] = A[i][j] + B[i][j]\n",
    "\n",
    "print(\"Result of Matrix Addition:\")\n",
    "for row in result:\n",
    "    print(row)\n"
   ]
  },
  {
   "cell_type": "markdown",
   "id": "5e3470f7-b34d-4488-bacb-a5fa74837c01",
   "metadata": {},
   "source": [
    "#### 10. Write a program to multiply two matrices"
   ]
  },
  {
   "cell_type": "code",
   "execution_count": 8,
   "id": "db15e88d-7241-4781-a7e6-d3d56f4582fb",
   "metadata": {},
   "outputs": [
    {
     "name": "stdout",
     "output_type": "stream",
     "text": [
      "Result of Matrix Multiplication:\n",
      "[58, 64]\n",
      "[139, 154]\n"
     ]
    }
   ],
   "source": [
    "A = [\n",
    "    [1, 2, 3],\n",
    "    [4, 5, 6]\n",
    "]\n",
    "\n",
    "B = [\n",
    "    [7, 8],\n",
    "    [9, 10],\n",
    "    [11, 12]\n",
    "]\n",
    "\n",
    "result = [[0 for _ in range(len(B[0]))] for _ in range(len(A))]\n",
    "\n",
    "for i in range(len(A)):            \n",
    "    for j in range(len(B[0])):    \n",
    "        for k in range(len(B)):    \n",
    "            result[i][j] += A[i][k] * B[k][j]\n",
    "\n",
    "print(\"Result of Matrix Multiplication:\")\n",
    "for row in result:\n",
    "    print(row)\n"
   ]
  },
  {
   "cell_type": "code",
   "execution_count": null,
   "id": "b8daa59a-4441-41a8-b16b-315f34055784",
   "metadata": {},
   "outputs": [],
   "source": []
  }
 ],
 "metadata": {
  "kernelspec": {
   "display_name": "Python (anaconda)",
   "language": "python",
   "name": "anaconda"
  },
  "language_info": {
   "codemirror_mode": {
    "name": "ipython",
    "version": 3
   },
   "file_extension": ".py",
   "mimetype": "text/x-python",
   "name": "python",
   "nbconvert_exporter": "python",
   "pygments_lexer": "ipython3",
   "version": "3.13.5"
  }
 },
 "nbformat": 4,
 "nbformat_minor": 5
}
